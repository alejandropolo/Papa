{
 "cells": [
  {
   "cell_type": "code",
   "execution_count": 109,
   "metadata": {},
   "outputs": [],
   "source": [
    "import pandas as pd\n",
    "import numpy as np\n",
    "from datetime import date"
   ]
  },
  {
   "cell_type": "code",
   "execution_count": 110,
   "metadata": {},
   "outputs": [],
   "source": [
    "def get_pacientes(fecha_actual=date.today()):\n",
    "    \n",
    "    d1 = date.today()\n",
    "    pacientes={}\n",
    "    suma_total=0\n",
    "    #### LA FECHA DE COMIENZO ES ABRIL\n",
    "    meses=['Enero','Febrero','Marzo','Abril','Mayo','Junio','Julio','Agosto','Septiembre','Octubre','Noviembre','Diciembre']\n",
    "    años=['2020','2021']\n",
    "    ### COJO LOS PACIENTES POR MESES Y AÑOS\n",
    "    for mes in meses:\n",
    "        for año in años:\n",
    "            num= input (\"Introduce el número de pacientes del año {} y del mes {}: \".format(año,mes))\n",
    "            pacientes['{}_{}'.format(mes,año)]=num\n",
    "        \n",
    "\n",
    "    for paciente in pacientes:\n",
    "        if \"Enero\" in paciente:\n",
    "            d2=date(2021, 1, 1)\n",
    "        elif \"Febrero\" in paciente:\n",
    "            d2=date(2021, 2, 1)\n",
    "        elif \"Marzo\" in paciente:\n",
    "            d2=date(2021, 3, 1)\n",
    "        elif \"Abril\" in paciente:\n",
    "            if \"2020\" in paciente:\n",
    "                d2=date(2020, 4, 1)\n",
    "            else:\n",
    "                d2=date(2021, 4, 1)\n",
    "            \n",
    "        elif \"Mayo\" in paciente:\n",
    "            if \"2020\" in paciente:\n",
    "                d2=date(2020, 5, 1)\n",
    "            else:\n",
    "                d2=date(2021, 5, 1)\n",
    "        elif \"Junio\" in paciente:\n",
    "            if \"2020\" in paciente:\n",
    "                d2=date(2020, 6, 1)\n",
    "            else:\n",
    "                d2=date(2021, 6, 1)\n",
    "        elif \"Julio\" in paciente:\n",
    "            if \"2020\" in paciente:\n",
    "                d2=date(2020, 7, 1)\n",
    "            else:\n",
    "                d2=date(2021, 7, 1)\n",
    "        elif \"Agosto\" in paciente:\n",
    "            if \"2020\" in paciente:\n",
    "                d2=date(2020, 8, 1)\n",
    "            else:\n",
    "                d2=date(2021, 8, 1)\n",
    "        elif \"Septiembre\" in paciente:\n",
    "            if \"2020\" in paciente:\n",
    "                d2=date(2020, 9, 1)\n",
    "            else:\n",
    "                d2=date(2021, 9, 1)\n",
    "        elif \"ocutbre\" in paciente:\n",
    "            if \"2020\" in paciente:\n",
    "                d2=date(2020, 10, 1)\n",
    "            else:\n",
    "                d2=date(2021, 10, 1)\n",
    "            \n",
    "        elif \"Noviembre\" in paciente:\n",
    "            if \"2020\" in paciente:\n",
    "                d2=date(2020, 11, 1)\n",
    "            else:\n",
    "                d2=date(2021, 11, 1)\n",
    "            \n",
    "        elif \"Diciembre\" in paciente:\n",
    "            if \"2020\" in paciente:\n",
    "                d2=date(2020, 12, 1)\n",
    "            else:\n",
    "                d2=date(2021, 12, 1)\n",
    "            \n",
    "        result = (d1-d2).days//7\n",
    "        sem=np.where(v<=result)\n",
    "        suma_total=suma_total+len(v[sem])*int(pacientes[paciente])\n",
    "    print(\" El numero de cajas que tienes es: \",suma_total)"
   ]
  },
  {
   "cell_type": "code",
   "execution_count": 111,
   "metadata": {},
   "outputs": [
    {
     "name": "stdout",
     "output_type": "stream",
     "text": [
      "Introduce el número de pacientes del año 2020 y del mes Enero: 0\n",
      "Introduce el número de pacientes del año 2021 y del mes Enero: 0\n",
      "Introduce el número de pacientes del año 2020 y del mes Febrero: 0\n",
      "Introduce el número de pacientes del año 2021 y del mes Febrero: 0\n",
      "Introduce el número de pacientes del año 2020 y del mes Marzo: 0\n",
      "Introduce el número de pacientes del año 2021 y del mes Marzo: 0\n",
      "Introduce el número de pacientes del año 2020 y del mes Abril: 1\n",
      "Introduce el número de pacientes del año 2021 y del mes Abril: 0\n",
      "Introduce el número de pacientes del año 2020 y del mes Mayo: 0\n",
      "Introduce el número de pacientes del año 2021 y del mes Mayo: 0\n",
      "Introduce el número de pacientes del año 2020 y del mes Junio: 0\n",
      "Introduce el número de pacientes del año 2021 y del mes Junio: 0\n",
      "Introduce el número de pacientes del año 2020 y del mes Julio: 0\n",
      "Introduce el número de pacientes del año 2021 y del mes Julio: 0\n",
      "Introduce el número de pacientes del año 2020 y del mes Agosto: 0\n",
      "Introduce el número de pacientes del año 2021 y del mes Agosto: 0\n",
      "Introduce el número de pacientes del año 2020 y del mes Septiembre: 0\n",
      "Introduce el número de pacientes del año 2021 y del mes Septiembre: 0\n",
      "Introduce el número de pacientes del año 2020 y del mes Octubre: 0\n",
      "Introduce el número de pacientes del año 2021 y del mes Octubre: 0\n",
      "Introduce el número de pacientes del año 2020 y del mes Noviembre: 0\n",
      "Introduce el número de pacientes del año 2021 y del mes Noviembre: 0\n",
      "Introduce el número de pacientes del año 2020 y del mes Diciembre: 0\n",
      "Introduce el número de pacientes del año 2021 y del mes Diciembre: 0\n",
      " El numero de cajas que tienes es:  6\n"
     ]
    }
   ],
   "source": [
    "get_pacientes(date(2021,4,1))"
   ]
  },
  {
   "cell_type": "code",
   "execution_count": null,
   "metadata": {},
   "outputs": [],
   "source": []
  }
 ],
 "metadata": {
  "kernelspec": {
   "display_name": "Python 3",
   "language": "python",
   "name": "python3"
  },
  "language_info": {
   "codemirror_mode": {
    "name": "ipython",
    "version": 3
   },
   "file_extension": ".py",
   "mimetype": "text/x-python",
   "name": "python",
   "nbconvert_exporter": "python",
   "pygments_lexer": "ipython3",
   "version": "3.8.3"
  }
 },
 "nbformat": 4,
 "nbformat_minor": 4
}
